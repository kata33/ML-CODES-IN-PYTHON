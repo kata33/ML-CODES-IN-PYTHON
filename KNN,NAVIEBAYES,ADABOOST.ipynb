{
 "cells": [
  {
   "cell_type": "markdown",
   "id": "nervous-tennessee",
   "metadata": {},
   "source": [
    "# Importing Useful Libraries"
   ]
  },
  {
   "cell_type": "code",
   "execution_count": 25,
   "id": "comprehensive-mistress",
   "metadata": {},
   "outputs": [],
   "source": [
    "import pandas as pd\n",
    "import numpy as np\n",
    "from sklearn.model_selection import train_test_split\n",
    "from sklearn.metrics import roc_curve,roc_auc_score,classification_report"
   ]
  },
  {
   "cell_type": "markdown",
   "id": "worthy-effect",
   "metadata": {},
   "source": [
    "# Reading Csv File From Local Disk"
   ]
  },
  {
   "cell_type": "code",
   "execution_count": 26,
   "id": "environmental-lodging",
   "metadata": {},
   "outputs": [],
   "source": [
    "x=pd.read_csv(\"C:\\\\Users\\\\KATA\\\\Documents\\\\DATA SCIENCE\\\\DataSets 1\\\\heart.csv\")"
   ]
  },
  {
   "cell_type": "code",
   "execution_count": 27,
   "id": "fluid-portland",
   "metadata": {},
   "outputs": [
    {
     "data": {
      "text/html": [
       "<div>\n",
       "<style scoped>\n",
       "    .dataframe tbody tr th:only-of-type {\n",
       "        vertical-align: middle;\n",
       "    }\n",
       "\n",
       "    .dataframe tbody tr th {\n",
       "        vertical-align: top;\n",
       "    }\n",
       "\n",
       "    .dataframe thead th {\n",
       "        text-align: right;\n",
       "    }\n",
       "</style>\n",
       "<table border=\"1\" class=\"dataframe\">\n",
       "  <thead>\n",
       "    <tr style=\"text-align: right;\">\n",
       "      <th></th>\n",
       "      <th>age</th>\n",
       "      <th>sex</th>\n",
       "      <th>cp</th>\n",
       "      <th>trestbps</th>\n",
       "      <th>chol</th>\n",
       "      <th>fbs</th>\n",
       "      <th>restecg</th>\n",
       "      <th>thalach</th>\n",
       "      <th>exang</th>\n",
       "      <th>oldpeak</th>\n",
       "      <th>slope</th>\n",
       "      <th>ca</th>\n",
       "      <th>thal</th>\n",
       "      <th>target</th>\n",
       "    </tr>\n",
       "  </thead>\n",
       "  <tbody>\n",
       "    <tr>\n",
       "      <th>0</th>\n",
       "      <td>63</td>\n",
       "      <td>1</td>\n",
       "      <td>3</td>\n",
       "      <td>145</td>\n",
       "      <td>233</td>\n",
       "      <td>1</td>\n",
       "      <td>0</td>\n",
       "      <td>150</td>\n",
       "      <td>0</td>\n",
       "      <td>2.3</td>\n",
       "      <td>0</td>\n",
       "      <td>0</td>\n",
       "      <td>1</td>\n",
       "      <td>1</td>\n",
       "    </tr>\n",
       "    <tr>\n",
       "      <th>1</th>\n",
       "      <td>37</td>\n",
       "      <td>1</td>\n",
       "      <td>2</td>\n",
       "      <td>130</td>\n",
       "      <td>250</td>\n",
       "      <td>0</td>\n",
       "      <td>1</td>\n",
       "      <td>187</td>\n",
       "      <td>0</td>\n",
       "      <td>3.5</td>\n",
       "      <td>0</td>\n",
       "      <td>0</td>\n",
       "      <td>2</td>\n",
       "      <td>1</td>\n",
       "    </tr>\n",
       "    <tr>\n",
       "      <th>2</th>\n",
       "      <td>41</td>\n",
       "      <td>0</td>\n",
       "      <td>1</td>\n",
       "      <td>130</td>\n",
       "      <td>204</td>\n",
       "      <td>0</td>\n",
       "      <td>0</td>\n",
       "      <td>172</td>\n",
       "      <td>0</td>\n",
       "      <td>1.4</td>\n",
       "      <td>2</td>\n",
       "      <td>0</td>\n",
       "      <td>2</td>\n",
       "      <td>1</td>\n",
       "    </tr>\n",
       "    <tr>\n",
       "      <th>3</th>\n",
       "      <td>56</td>\n",
       "      <td>1</td>\n",
       "      <td>1</td>\n",
       "      <td>120</td>\n",
       "      <td>236</td>\n",
       "      <td>0</td>\n",
       "      <td>1</td>\n",
       "      <td>178</td>\n",
       "      <td>0</td>\n",
       "      <td>0.8</td>\n",
       "      <td>2</td>\n",
       "      <td>0</td>\n",
       "      <td>2</td>\n",
       "      <td>1</td>\n",
       "    </tr>\n",
       "    <tr>\n",
       "      <th>4</th>\n",
       "      <td>57</td>\n",
       "      <td>0</td>\n",
       "      <td>0</td>\n",
       "      <td>120</td>\n",
       "      <td>354</td>\n",
       "      <td>0</td>\n",
       "      <td>1</td>\n",
       "      <td>163</td>\n",
       "      <td>1</td>\n",
       "      <td>0.6</td>\n",
       "      <td>2</td>\n",
       "      <td>0</td>\n",
       "      <td>2</td>\n",
       "      <td>1</td>\n",
       "    </tr>\n",
       "  </tbody>\n",
       "</table>\n",
       "</div>"
      ],
      "text/plain": [
       "   age  sex  cp  trestbps  chol  fbs  restecg  thalach  exang  oldpeak  slope  \\\n",
       "0   63    1   3       145   233    1        0      150      0      2.3      0   \n",
       "1   37    1   2       130   250    0        1      187      0      3.5      0   \n",
       "2   41    0   1       130   204    0        0      172      0      1.4      2   \n",
       "3   56    1   1       120   236    0        1      178      0      0.8      2   \n",
       "4   57    0   0       120   354    0        1      163      1      0.6      2   \n",
       "\n",
       "   ca  thal  target  \n",
       "0   0     1       1  \n",
       "1   0     2       1  \n",
       "2   0     2       1  \n",
       "3   0     2       1  \n",
       "4   0     2       1  "
      ]
     },
     "execution_count": 27,
     "metadata": {},
     "output_type": "execute_result"
    }
   ],
   "source": [
    "x.head()"
   ]
  },
  {
   "cell_type": "markdown",
   "id": "saving-honolulu",
   "metadata": {},
   "source": [
    "# Seperating the Input and Output Variable"
   ]
  },
  {
   "cell_type": "code",
   "execution_count": 28,
   "id": "changing-beads",
   "metadata": {},
   "outputs": [],
   "source": [
    "a=x.drop([\"target\"],axis=1)\n",
    "b=x[\"target\"]"
   ]
  },
  {
   "cell_type": "markdown",
   "id": "sophisticated-staff",
   "metadata": {},
   "source": [
    "# Splitting The data Into Train and Test file"
   ]
  },
  {
   "cell_type": "code",
   "execution_count": 29,
   "id": "accepting-absorption",
   "metadata": {},
   "outputs": [],
   "source": [
    "x_train,x_test,y_train,y_test=train_test_split(a,b,test_size=0.2,random_state=123)"
   ]
  },
  {
   "cell_type": "markdown",
   "id": "canadian-window",
   "metadata": {},
   "source": [
    "# Traning the data  by Fitting into the Algorithms"
   ]
  },
  {
   "cell_type": "code",
   "execution_count": 30,
   "id": "collectible-amplifier",
   "metadata": {},
   "outputs": [],
   "source": [
    "from sklearn.neighbors import KNeighborsClassifier\n",
    "from sklearn.naive_bayes import GaussianNB\n",
    "from sklearn.ensemble import AdaBoostClassifier"
   ]
  },
  {
   "cell_type": "code",
   "execution_count": 42,
   "id": "balanced-bristol",
   "metadata": {},
   "outputs": [],
   "source": [
    "k=KNeighborsClassifier(n_neighbors=7)\n",
    "gb=GaussianNB()\n",
    "ad=AdaBoostClassifier(n_estimators=200,learning_rate=0.01,random_state=123)"
   ]
  },
  {
   "cell_type": "code",
   "execution_count": 43,
   "id": "surface-worth",
   "metadata": {},
   "outputs": [
    {
     "data": {
      "text/plain": [
       "KNeighborsClassifier(n_neighbors=7)"
      ]
     },
     "execution_count": 43,
     "metadata": {},
     "output_type": "execute_result"
    }
   ],
   "source": [
    "k.fit(x_train,y_train)"
   ]
  },
  {
   "cell_type": "code",
   "execution_count": 44,
   "id": "found-minimum",
   "metadata": {},
   "outputs": [
    {
     "data": {
      "text/plain": [
       "GaussianNB()"
      ]
     },
     "execution_count": 44,
     "metadata": {},
     "output_type": "execute_result"
    }
   ],
   "source": [
    "gb.fit(x_train,y_train)"
   ]
  },
  {
   "cell_type": "code",
   "execution_count": 45,
   "id": "genuine-might",
   "metadata": {},
   "outputs": [
    {
     "data": {
      "text/plain": [
       "AdaBoostClassifier(learning_rate=0.01, n_estimators=200, random_state=123)"
      ]
     },
     "execution_count": 45,
     "metadata": {},
     "output_type": "execute_result"
    }
   ],
   "source": [
    "ad.fit(x_train,y_train)"
   ]
  },
  {
   "cell_type": "markdown",
   "id": "touched-manual",
   "metadata": {},
   "source": [
    "# Making Predections On Test Side"
   ]
  },
  {
   "cell_type": "code",
   "execution_count": 46,
   "id": "oriental-germany",
   "metadata": {},
   "outputs": [],
   "source": [
    "pred=k.predict(x_test)"
   ]
  },
  {
   "cell_type": "code",
   "execution_count": 47,
   "id": "robust-flexibility",
   "metadata": {},
   "outputs": [],
   "source": [
    "pred1=gb.predict(x_test)"
   ]
  },
  {
   "cell_type": "code",
   "execution_count": 48,
   "id": "engaging-monthly",
   "metadata": {},
   "outputs": [],
   "source": [
    "pred2=ad.predict(x_test)"
   ]
  },
  {
   "cell_type": "markdown",
   "id": "tribal-behalf",
   "metadata": {},
   "source": [
    "# Comparing Actuals and Predections"
   ]
  },
  {
   "cell_type": "code",
   "execution_count": 62,
   "id": "presidential-infection",
   "metadata": {},
   "outputs": [
    {
     "data": {
      "text/html": [
       "<div>\n",
       "<style scoped>\n",
       "    .dataframe tbody tr th:only-of-type {\n",
       "        vertical-align: middle;\n",
       "    }\n",
       "\n",
       "    .dataframe tbody tr th {\n",
       "        vertical-align: top;\n",
       "    }\n",
       "\n",
       "    .dataframe thead th {\n",
       "        text-align: right;\n",
       "    }\n",
       "</style>\n",
       "<table border=\"1\" class=\"dataframe\">\n",
       "  <thead>\n",
       "    <tr style=\"text-align: right;\">\n",
       "      <th></th>\n",
       "      <th>ACTUALS</th>\n",
       "      <th>PREDECTIONS</th>\n",
       "    </tr>\n",
       "  </thead>\n",
       "  <tbody>\n",
       "    <tr>\n",
       "      <th>0</th>\n",
       "      <td>1</td>\n",
       "      <td>1</td>\n",
       "    </tr>\n",
       "    <tr>\n",
       "      <th>1</th>\n",
       "      <td>0</td>\n",
       "      <td>1</td>\n",
       "    </tr>\n",
       "    <tr>\n",
       "      <th>2</th>\n",
       "      <td>0</td>\n",
       "      <td>0</td>\n",
       "    </tr>\n",
       "    <tr>\n",
       "      <th>3</th>\n",
       "      <td>0</td>\n",
       "      <td>0</td>\n",
       "    </tr>\n",
       "    <tr>\n",
       "      <th>4</th>\n",
       "      <td>1</td>\n",
       "      <td>0</td>\n",
       "    </tr>\n",
       "    <tr>\n",
       "      <th>...</th>\n",
       "      <td>...</td>\n",
       "      <td>...</td>\n",
       "    </tr>\n",
       "    <tr>\n",
       "      <th>56</th>\n",
       "      <td>1</td>\n",
       "      <td>0</td>\n",
       "    </tr>\n",
       "    <tr>\n",
       "      <th>57</th>\n",
       "      <td>1</td>\n",
       "      <td>0</td>\n",
       "    </tr>\n",
       "    <tr>\n",
       "      <th>58</th>\n",
       "      <td>0</td>\n",
       "      <td>1</td>\n",
       "    </tr>\n",
       "    <tr>\n",
       "      <th>59</th>\n",
       "      <td>1</td>\n",
       "      <td>0</td>\n",
       "    </tr>\n",
       "    <tr>\n",
       "      <th>60</th>\n",
       "      <td>1</td>\n",
       "      <td>1</td>\n",
       "    </tr>\n",
       "  </tbody>\n",
       "</table>\n",
       "<p>61 rows × 2 columns</p>\n",
       "</div>"
      ],
      "text/plain": [
       "    ACTUALS  PREDECTIONS\n",
       "0         1            1\n",
       "1         0            1\n",
       "2         0            0\n",
       "3         0            0\n",
       "4         1            0\n",
       "..      ...          ...\n",
       "56        1            0\n",
       "57        1            0\n",
       "58        0            1\n",
       "59        1            0\n",
       "60        1            1\n",
       "\n",
       "[61 rows x 2 columns]"
      ]
     },
     "execution_count": 62,
     "metadata": {},
     "output_type": "execute_result"
    }
   ],
   "source": [
    "c=pd.DataFrame(list(zip(y_test,pred)),columns=[\"ACTUALS\",\"PREDECTIONS\"])\n",
    "c"
   ]
  },
  {
   "cell_type": "markdown",
   "id": "failing-boards",
   "metadata": {},
   "source": [
    "# Evulating The Model"
   ]
  },
  {
   "cell_type": "code",
   "execution_count": 49,
   "id": "cheap-prayer",
   "metadata": {},
   "outputs": [
    {
     "name": "stdout",
     "output_type": "stream",
     "text": [
      "              precision    recall  f1-score   support\n",
      "\n",
      "           0       0.64      0.53      0.58        30\n",
      "           1       0.61      0.71      0.66        31\n",
      "\n",
      "    accuracy                           0.62        61\n",
      "   macro avg       0.63      0.62      0.62        61\n",
      "weighted avg       0.63      0.62      0.62        61\n",
      "\n"
     ]
    }
   ],
   "source": [
    "print(classification_report(y_test,pred))"
   ]
  },
  {
   "cell_type": "code",
   "execution_count": 50,
   "id": "arabic-audio",
   "metadata": {},
   "outputs": [
    {
     "name": "stdout",
     "output_type": "stream",
     "text": [
      "              precision    recall  f1-score   support\n",
      "\n",
      "           0       0.79      0.90      0.84        30\n",
      "           1       0.89      0.77      0.83        31\n",
      "\n",
      "    accuracy                           0.84        61\n",
      "   macro avg       0.84      0.84      0.84        61\n",
      "weighted avg       0.84      0.84      0.84        61\n",
      "\n"
     ]
    }
   ],
   "source": [
    "print(classification_report(y_test,pred1))"
   ]
  },
  {
   "cell_type": "code",
   "execution_count": 51,
   "id": "preliminary-yugoslavia",
   "metadata": {},
   "outputs": [
    {
     "name": "stdout",
     "output_type": "stream",
     "text": [
      "              precision    recall  f1-score   support\n",
      "\n",
      "           0       0.67      0.67      0.67        30\n",
      "           1       0.68      0.68      0.68        31\n",
      "\n",
      "    accuracy                           0.67        61\n",
      "   macro avg       0.67      0.67      0.67        61\n",
      "weighted avg       0.67      0.67      0.67        61\n",
      "\n"
     ]
    }
   ],
   "source": [
    "print(classification_report(y_test,pred2))"
   ]
  },
  {
   "cell_type": "markdown",
   "id": "suspected-terminology",
   "metadata": {},
   "source": [
    "# ROC curves"
   ]
  },
  {
   "cell_type": "code",
   "execution_count": 52,
   "id": "convertible-season",
   "metadata": {},
   "outputs": [],
   "source": [
    "import matplotlib.pyplot as plt"
   ]
  },
  {
   "cell_type": "code",
   "execution_count": 58,
   "id": "sustained-frame",
   "metadata": {},
   "outputs": [
    {
     "data": {
      "text/plain": [
       "<matplotlib.legend.Legend at 0x204e2b9e9d0>"
      ]
     },
     "execution_count": 58,
     "metadata": {},
     "output_type": "execute_result"
    },
    {
     "data": {
      "image/png": "[encoded data removed]",
      "text/plain": [
       "<Figure size 432x288 with 1 Axes>"
      ]
     },
     "metadata": {
      "needs_background": "light"
     },
     "output_type": "display_data"
    }
   ],
   "source": [
    "r1=k.predict_proba(x_test) [:,1]\n",
    "r2=gb.predict_proba(x_test) [:,1]\n",
    "r3=ad.predict_proba(x_test) [:,1]\n",
    "tpr,fpr,t=roc_curve(y_test,r1)\n",
    "tpr1,fpr1,t1=roc_curve(y_test,r2)\n",
    "tpr2,fpr2,t2=roc_curve(y_test,r3)\n",
    "plt.plot([0,1],[0,1])\n",
    "plt.plot(tpr,fpr,\"--\",label=\"K-Nearest Neighbour:\" +str(round(roc_auc_score(y_test,r1*100),2)))\n",
    "plt.plot(tpr1,fpr1,\"--\",label=\"GAUSSIAN NAVIE BAYES:\" +str(round(roc_auc_score(y_test,r2*100),2)))\n",
    "plt.plot(tpr2,fpr2,\"--\",label=\"AdaBoost:\" +str(round(roc_auc_score(y_test,r3*100),2)))\n",
    "plt.legend()"
   ]
  },
  {
   "cell_type": "code",
   "execution_count": null,
   "id": "sensitive-floating",
   "metadata": {},
   "outputs": [],
   "source": []
  }
 ],
 "metadata": {
  "kernelspec": {
   "display_name": "Python 3",
   "language": "python",
   "name": "python3"
  },
  "language_info": {
   "codemirror_mode": {
    "name": "ipython",
    "version": 3
   },
   "file_extension": ".py",
   "mimetype": "text/x-python",
   "name": "python",
   "nbconvert_exporter": "python",
   "pygments_lexer": "ipython3",
   "version": "3.8.3"
  }
 },
 "nbformat": 4,
 "nbformat_minor": 5
}
