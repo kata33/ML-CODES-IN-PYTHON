{
 "cells": [
  {
   "cell_type": "markdown",
   "metadata": {},
   "source": [
    "# The problem here is to predict interest rate. We have been provided with train and test data separately, wheretest data doesn’t have response values. We need to use train data to build our model and then use that model tomake prediction on test data. In this example we have been given x as traindata and y as test data, Interest.Rate is our response variable for which we need to make the predictionmodel.\n"
   ]
  },
  {
   "cell_type": "markdown",
   "metadata": {},
   "source": [
    "# Importing Libraries"
   ]
  },
  {
   "cell_type": "code",
   "execution_count": 78,
   "metadata": {},
   "outputs": [],
   "source": [
    "import pandas as pd\n",
    "import numpy as np"
   ]
  },
  {
   "cell_type": "markdown",
   "metadata": {},
   "source": [
    "# Reading Both Train and Test Files"
   ]
  },
  {
   "cell_type": "code",
   "execution_count": 79,
   "metadata": {},
   "outputs": [],
   "source": [
    "x=pd.read_csv(\"C:\\\\Users\\\\KATA\\\\Documents\\\\DATA SCIENCE\\\\DataSets 2\\\\loan_data_train.csv\")\n",
    "y=pd.read_csv(\"C:\\\\Users\\\\KATA\\\\Documents\\\\DATA SCIENCE\\\\DataSets 2\\\\loan_data_test.csv\")"
   ]
  },
  {
   "cell_type": "markdown",
   "metadata": {},
   "source": [
    "# Concatinating Both Train and Test Files"
   ]
  },
  {
   "cell_type": "code",
   "execution_count": 80,
   "metadata": {},
   "outputs": [],
   "source": [
    "y[\"Interest.Rate\"]=np.nan\n",
    "x[\"data\"]=\"train\"\n",
    "y[\"data\"]=\"test\"\n",
    "z=pd.concat([x,y],axis=0)"
   ]
  },
  {
   "cell_type": "markdown",
   "metadata": {},
   "source": [
    "# Removing The Unwanted Columns"
   ]
  },
  {
   "cell_type": "code",
   "execution_count": 81,
   "metadata": {},
   "outputs": [],
   "source": [
    "del z[\"ID\"],z[\"State\"]"
   ]
  },
  {
   "cell_type": "code",
   "execution_count": 82,
   "metadata": {},
   "outputs": [],
   "source": [
    "del z[\"Amount.Funded.By.Investors\"]"
   ]
  },
  {
   "cell_type": "markdown",
   "metadata": {},
   "source": [
    "# Data Pre-Processing"
   ]
  },
  {
   "cell_type": "code",
   "execution_count": 83,
   "metadata": {},
   "outputs": [],
   "source": [
    "z[\"Amount.Requested\"]=z[\"Amount.Requested\"].str.replace(\"[^0-9]\",\"\",regex=True)"
   ]
  },
  {
   "cell_type": "code",
   "execution_count": 84,
   "metadata": {},
   "outputs": [],
   "source": [
    "z[\"Amount.Requested\"]=pd.to_numeric(z[\"Amount.Requested\"])"
   ]
  },
  {
   "cell_type": "code",
   "execution_count": 85,
   "metadata": {},
   "outputs": [],
   "source": [
    "z[\"Amount.Requested\"].fillna(z[\"Amount.Requested\"].mean(),inplace=True)"
   ]
  },
  {
   "cell_type": "code",
   "execution_count": 86,
   "metadata": {},
   "outputs": [],
   "source": [
    "z[\"Interest.Rate\"]=z[\"Interest.Rate\"].str.replace(\"[^0-9,.]\",\"\",regex=True)"
   ]
  },
  {
   "cell_type": "code",
   "execution_count": 87,
   "metadata": {},
   "outputs": [],
   "source": [
    "z[\"Interest.Rate\"]=pd.to_numeric(z[\"Interest.Rate\"])"
   ]
  },
  {
   "cell_type": "code",
   "execution_count": 88,
   "metadata": {},
   "outputs": [],
   "source": [
    "z[\"Interest.Rate\"].fillna(z[\"Interest.Rate\"].mean(),inplace=True)"
   ]
  },
  {
   "cell_type": "code",
   "execution_count": 89,
   "metadata": {},
   "outputs": [],
   "source": [
    "z[\"Loan.Length\"]=z[\"Loan.Length\"].str.replace(\"[^0-9]\",\"\",regex=True)"
   ]
  },
  {
   "cell_type": "code",
   "execution_count": 90,
   "metadata": {},
   "outputs": [],
   "source": [
    "z[\"Loan.Length\"].replace(\"\",60,inplace=True)"
   ]
  },
  {
   "cell_type": "code",
   "execution_count": 91,
   "metadata": {},
   "outputs": [],
   "source": [
    "a=pd.value_counts(z[\"Loan.Length\"])\n",
    "b=(a/a.sum()*100).lt(22)\n",
    "z['Loan.Length']=np.where(z[\"Loan.Length\"].isin(a[b].index),60,z[\"Loan.Length\"])"
   ]
  },
  {
   "cell_type": "code",
   "execution_count": 92,
   "metadata": {},
   "outputs": [],
   "source": [
    "z[\"Loan.Length\"].fillna(60,inplace=True)"
   ]
  },
  {
   "cell_type": "code",
   "execution_count": 93,
   "metadata": {},
   "outputs": [],
   "source": [
    "a=pd.value_counts(z[\"Loan.Purpose\"])\n",
    "b=(a/a.sum()*100).lt(18)\n",
    "z['Loan.Purpose']=np.where(z[\"Loan.Purpose\"].isin(a[b].index),\"renewable_enerrgy\",z[\"Loan.Purpose\"])"
   ]
  },
  {
   "cell_type": "code",
   "execution_count": 94,
   "metadata": {},
   "outputs": [],
   "source": [
    "z['Debt.To.Income.Ratio']=z[\"Debt.To.Income.Ratio\"].str.replace(\"[^0-9,.]\",\"\",regex=True)"
   ]
  },
  {
   "cell_type": "code",
   "execution_count": 95,
   "metadata": {},
   "outputs": [],
   "source": [
    "z[\"Debt.To.Income.Ratio\"]=pd.to_numeric(z[\"Debt.To.Income.Ratio\"])"
   ]
  },
  {
   "cell_type": "code",
   "execution_count": 96,
   "metadata": {},
   "outputs": [],
   "source": [
    "z['Loan.Length']=pd.to_numeric(z[\"Loan.Length\"])"
   ]
  },
  {
   "cell_type": "code",
   "execution_count": 97,
   "metadata": {},
   "outputs": [],
   "source": [
    "a=pd.value_counts(z[\"Home.Ownership\"])\n",
    "b=(a/a.sum()*100).lt(45.86)\n",
    "z['Home.Ownership']=np.where(z[\"Home.Ownership\"].isin(a[b].index),\"OWN\",z[\"Home.Ownership\"])"
   ]
  },
  {
   "cell_type": "code",
   "execution_count": 98,
   "metadata": {},
   "outputs": [],
   "source": [
    "z[\"Debt.To.Income.Ratio\"].fillna(z[\"Debt.To.Income.Ratio\"].mean(),inplace=True)"
   ]
  },
  {
   "cell_type": "code",
   "execution_count": 99,
   "metadata": {},
   "outputs": [],
   "source": [
    "z[\"Home.Ownership\"].fillna(\"MORTGAGE\",inplace=True)"
   ]
  },
  {
   "cell_type": "code",
   "execution_count": 100,
   "metadata": {},
   "outputs": [],
   "source": [
    "z[\"Monthly.Income\"].fillna(z[\"Monthly.Income\"].mean(),inplace=True)"
   ]
  },
  {
   "cell_type": "code",
   "execution_count": 101,
   "metadata": {},
   "outputs": [],
   "source": [
    "k=z[\"FICO.Range\"].str.split(\"-\",expand=True).astype(float)"
   ]
  },
  {
   "cell_type": "code",
   "execution_count": 102,
   "metadata": {},
   "outputs": [],
   "source": [
    "z[\"FICO.Range\"]=0.5*(k[0]+k[1])"
   ]
  },
  {
   "cell_type": "code",
   "execution_count": 103,
   "metadata": {},
   "outputs": [],
   "source": [
    "z[\"Open.CREDIT.Lines\"]=z[\"Open.CREDIT.Lines\"].str.replace(\"[^0-9a-zA-Z]\",\"0\",regex=True)"
   ]
  },
  {
   "cell_type": "code",
   "execution_count": 104,
   "metadata": {},
   "outputs": [],
   "source": [
    "z[\"Open.CREDIT.Lines\"].fillna(34,inplace=True)"
   ]
  },
  {
   "cell_type": "code",
   "execution_count": 105,
   "metadata": {},
   "outputs": [],
   "source": [
    "z[\"Open.CREDIT.Lines\"]=pd.to_numeric(z[\"Open.CREDIT.Lines\"])"
   ]
  },
  {
   "cell_type": "code",
   "execution_count": 106,
   "metadata": {},
   "outputs": [],
   "source": [
    "z[\"Revolving.CREDIT.Balance\"]=z[\"Revolving.CREDIT.Balance\"].str.replace(\"[^0-9]\",\"0\",regex=True)"
   ]
  },
  {
   "cell_type": "code",
   "execution_count": 107,
   "metadata": {},
   "outputs": [],
   "source": [
    "z[\"Revolving.CREDIT.Balance\"]=pd.to_numeric(z[\"Revolving.CREDIT.Balance\"])"
   ]
  },
  {
   "cell_type": "code",
   "execution_count": 108,
   "metadata": {},
   "outputs": [],
   "source": [
    "z[\"Revolving.CREDIT.Balance\"].fillna(z[\"Revolving.CREDIT.Balance\"].median(),inplace=True)"
   ]
  },
  {
   "cell_type": "code",
   "execution_count": 109,
   "metadata": {},
   "outputs": [],
   "source": [
    "z[\"Inquiries.in.the.Last.6.Months\"].fillna(8.0,inplace=True)"
   ]
  },
  {
   "cell_type": "code",
   "execution_count": 110,
   "metadata": {},
   "outputs": [],
   "source": [
    "z[\"Employment.Length\"]=z[\"Employment.Length\"].str.replace(\"[^0-9]\",\"\",regex=True)"
   ]
  },
  {
   "cell_type": "code",
   "execution_count": 111,
   "metadata": {},
   "outputs": [],
   "source": [
    "a=pd.value_counts(z[\"Employment.Length\"])\n",
    "b=(a/a.sum()*100).lt(3)\n",
    "z['Employment.Length']=np.where(z[\"Employment.Length\"].isin(a[b].index),9,z[\"Employment.Length\"])"
   ]
  },
  {
   "cell_type": "code",
   "execution_count": 112,
   "metadata": {},
   "outputs": [],
   "source": [
    "z[\"Employment.Length\"].fillna(11,inplace=True)"
   ]
  },
  {
   "cell_type": "code",
   "execution_count": 113,
   "metadata": {},
   "outputs": [],
   "source": [
    "z[\"Employment.Length\"]=pd.to_numeric(z[\"Employment.Length\"])"
   ]
  },
  {
   "cell_type": "code",
   "execution_count": 114,
   "metadata": {},
   "outputs": [],
   "source": [
    "z[\"Loan.Purpose\"].fillna(\"renewable_enerrgy\",inplace=True)"
   ]
  },
  {
   "cell_type": "markdown",
   "metadata": {},
   "source": [
    "# Dropping The Data Column and Target Variable In test Data"
   ]
  },
  {
   "cell_type": "code",
   "execution_count": 115,
   "metadata": {},
   "outputs": [
    {
     "name": "stderr",
     "output_type": "stream",
     "text": [
      "C:\\Users\\KATA\\anaconda3\\lib\\site-packages\\pandas\\core\\frame.py:3990: SettingWithCopyWarning: \n",
      "A value is trying to be set on a copy of a slice from a DataFrame\n",
      "\n",
      "See the caveats in the documentation: https://pandas.pydata.org/pandas-docs/stable/user_guide/indexing.html#returning-a-view-versus-a-copy\n",
      "  return super().drop(\n"
     ]
    }
   ],
   "source": [
    "x=z[z[\"data\"]==\"train\"]\n",
    "del x[\"data\"]\n",
    "y=z[z[\"data\"]==\"test\"]\n",
    "y.drop([\"Interest.Rate\",\"data\"],axis=1,inplace=True)"
   ]
  },
  {
   "cell_type": "code",
   "execution_count": 116,
   "metadata": {},
   "outputs": [],
   "source": [
    "del z"
   ]
  },
  {
   "cell_type": "markdown",
   "metadata": {},
   "source": [
    "# Splitting The Data"
   ]
  },
  {
   "cell_type": "code",
   "execution_count": 117,
   "metadata": {},
   "outputs": [],
   "source": [
    "from sklearn.model_selection import train_test_split"
   ]
  },
  {
   "cell_type": "code",
   "execution_count": 118,
   "metadata": {},
   "outputs": [],
   "source": [
    "a,b=train_test_split(x,test_size=0.2,random_state=123)"
   ]
  },
  {
   "cell_type": "markdown",
   "metadata": {},
   "source": [
    "# Seperating The Input  Variable And The Target Variable"
   ]
  },
  {
   "cell_type": "code",
   "execution_count": 119,
   "metadata": {},
   "outputs": [],
   "source": [
    "m=a.drop([\"Interest.Rate\"],axis=1)\n",
    "n=a[\"Interest.Rate\"]\n"
   ]
  },
  {
   "cell_type": "code",
   "execution_count": 120,
   "metadata": {},
   "outputs": [],
   "source": [
    "from sklearn.linear_model import LinearRegression"
   ]
  },
  {
   "cell_type": "code",
   "execution_count": 121,
   "metadata": {},
   "outputs": [],
   "source": [
    "l=LinearRegression()"
   ]
  },
  {
   "cell_type": "markdown",
   "metadata": {},
   "source": [
    "# Creating Dummies For Categorical Variables"
   ]
  },
  {
   "cell_type": "code",
   "execution_count": 122,
   "metadata": {},
   "outputs": [],
   "source": [
    "m=pd.get_dummies(m,drop_first=True)"
   ]
  },
  {
   "cell_type": "markdown",
   "metadata": {},
   "source": [
    "# Fitting The Model"
   ]
  },
  {
   "cell_type": "code",
   "execution_count": 123,
   "metadata": {},
   "outputs": [
    {
     "data": {
      "text/plain": [
       "LinearRegression()"
      ]
     },
     "execution_count": 123,
     "metadata": {},
     "output_type": "execute_result"
    }
   ],
   "source": [
    "l.fit(m,n)"
   ]
  },
  {
   "cell_type": "code",
   "execution_count": 124,
   "metadata": {},
   "outputs": [],
   "source": [
    "from sklearn.metrics import r2_score,mean_squared_error"
   ]
  },
  {
   "cell_type": "code",
   "execution_count": 125,
   "metadata": {},
   "outputs": [],
   "source": [
    "m1=b.drop([\"Interest.Rate\"],axis=1)"
   ]
  },
  {
   "cell_type": "code",
   "execution_count": 126,
   "metadata": {},
   "outputs": [],
   "source": [
    "m1=pd.get_dummies(m1,drop_first=True)"
   ]
  },
  {
   "cell_type": "markdown",
   "metadata": {},
   "source": [
    "# Predections"
   ]
  },
  {
   "cell_type": "code",
   "execution_count": 127,
   "metadata": {},
   "outputs": [],
   "source": [
    "pred=l.predict(m1)"
   ]
  },
  {
   "cell_type": "markdown",
   "metadata": {},
   "source": [
    "# Metric To Evulate The Linear Models"
   ]
  },
  {
   "cell_type": "code",
   "execution_count": 128,
   "metadata": {},
   "outputs": [
    {
     "name": "stdout",
     "output_type": "stream",
     "text": [
      "4.519231110390851\n"
     ]
    }
   ],
   "source": [
    "print(mean_squared_error(b[\"Interest.Rate\"],pred))"
   ]
  },
  {
   "cell_type": "code",
   "execution_count": 129,
   "metadata": {},
   "outputs": [
    {
     "name": "stdout",
     "output_type": "stream",
     "text": [
      "2.1258483272310023\n"
     ]
    }
   ],
   "source": [
    "print(np.sqrt(mean_squared_error(b[\"Interest.Rate\"],pred)))"
   ]
  },
  {
   "cell_type": "code",
   "execution_count": 130,
   "metadata": {},
   "outputs": [],
   "source": [
    "x=pd.get_dummies(x,drop_first=True)"
   ]
  },
  {
   "cell_type": "code",
   "execution_count": 131,
   "metadata": {},
   "outputs": [],
   "source": [
    "c=x.drop([\"Interest.Rate\"],axis=1)\n",
    "d=x[\"Interest.Rate\"]"
   ]
  },
  {
   "cell_type": "code",
   "execution_count": 132,
   "metadata": {},
   "outputs": [
    {
     "data": {
      "text/plain": [
       "LinearRegression()"
      ]
     },
     "execution_count": 132,
     "metadata": {},
     "output_type": "execute_result"
    }
   ],
   "source": [
    "l.fit(c,d)"
   ]
  },
  {
   "cell_type": "code",
   "execution_count": 133,
   "metadata": {},
   "outputs": [],
   "source": [
    "y=pd.get_dummies(y,drop_first=True)"
   ]
  },
  {
   "cell_type": "code",
   "execution_count": 134,
   "metadata": {},
   "outputs": [],
   "source": [
    "pred2=l.predict(y)"
   ]
  },
  {
   "cell_type": "code",
   "execution_count": 135,
   "metadata": {},
   "outputs": [],
   "source": [
    "l=pd.DataFrame(pred2,columns=[\"Interest.Rate\"])"
   ]
  },
  {
   "cell_type": "markdown",
   "metadata": {},
   "source": [
    "# Using  StatsModels  Package For The Same Output as In R"
   ]
  },
  {
   "cell_type": "code",
   "execution_count": 136,
   "metadata": {},
   "outputs": [],
   "source": [
    "import statsmodels.api as sm"
   ]
  },
  {
   "cell_type": "code",
   "execution_count": 137,
   "metadata": {},
   "outputs": [],
   "source": [
    "m=sm.add_constant(m)"
   ]
  },
  {
   "cell_type": "code",
   "execution_count": 138,
   "metadata": {},
   "outputs": [],
   "source": [
    "g=sm.OLS(n,m).fit()"
   ]
  },
  {
   "cell_type": "code",
   "execution_count": 143,
   "metadata": {},
   "outputs": [
    {
     "name": "stdout",
     "output_type": "stream",
     "text": [
      "                        Results: Ordinary least squares\n",
      "===============================================================================\n",
      "Model:                   OLS                  Adj. R-squared:         0.758    \n",
      "Dependent Variable:      Interest.Rate        AIC:                    7541.4917\n",
      "Date:                    2020-09-13 09:17     BIC:                    7607.1685\n",
      "No. Observations:        1760                 Log-Likelihood:         -3758.7  \n",
      "Df Model:                11                   F-statistic:            501.9    \n",
      "Df Residuals:            1748                 Prob (F-statistic):     0.00     \n",
      "R-squared:               0.760                Scale:                  4.2218   \n",
      "-------------------------------------------------------------------------------\n",
      "                                Coef.  Std.Err.    t     P>|t|   [0.025  0.975]\n",
      "-------------------------------------------------------------------------------\n",
      "const                          66.7012   1.1188  59.6201 0.0000 64.5069 68.8954\n",
      "Amount.Requested                0.0002   0.0000  19.8125 0.0000  0.0001  0.0002\n",
      "Loan.Length                     0.1338   0.0054  24.6930 0.0000  0.1232  0.1444\n",
      "Debt.To.Income.Ratio           -0.0053   0.0076  -0.6986 0.4849 -0.0201  0.0096\n",
      "Monthly.Income                 -0.0000   0.0000  -2.2554 0.0242 -0.0001 -0.0000\n",
      "FICO.Range                     -0.0866   0.0015 -58.4025 0.0000 -0.0895 -0.0837\n",
      "Open.CREDIT.Lines              -0.0219   0.0120  -1.8244 0.0683 -0.0455  0.0016\n",
      "Revolving.CREDIT.Balance       -0.0000   0.0000  -1.0204 0.3077 -0.0000  0.0000\n",
      "Inquiries.in.the.Last.6.Months  0.3326   0.0402   8.2796 0.0000  0.2538  0.4113\n",
      "Employment.Length               0.0242   0.0144   1.6803 0.0931 -0.0040  0.0524\n",
      "Loan.Purpose_renewable_enerrgy  0.2179   0.1016   2.1453 0.0321  0.0187  0.4172\n",
      "Home.Ownership_OWN              0.3623   0.1057   3.4275 0.0006  0.1550  0.5697\n",
      "-------------------------------------------------------------------------------\n",
      "Omnibus:                  119.228           Durbin-Watson:              2.032  \n",
      "Prob(Omnibus):            0.000             Jarque-Bera (JB):           173.867\n",
      "Skew:                     0.557             Prob(JB):                   0.000  \n",
      "Kurtosis:                 4.063             Condition No.:              610050 \n",
      "===============================================================================\n",
      "* The condition number is large (6e+05). This might indicate             strong\n",
      "multicollinearity or other numerical problems.\n"
     ]
    }
   ],
   "source": [
    "print(g.summary2())"
   ]
  },
  {
   "cell_type": "markdown",
   "metadata": {},
   "source": [
    "# VIF for each Variable"
   ]
  },
  {
   "cell_type": "code",
   "execution_count": 173,
   "metadata": {},
   "outputs": [
    {
     "name": "stdout",
     "output_type": "stream",
     "text": [
      "                           columns    Vif\n",
      "0                 Amount.Requested   5.55\n",
      "1                    Interest.Rate  14.45\n",
      "2                      Loan.Length  17.09\n",
      "3             Debt.To.Income.Ratio   6.33\n",
      "4                   Monthly.Income   3.94\n",
      "5                Open.CREDIT.Lines   7.01\n",
      "6         Revolving.CREDIT.Balance   2.16\n",
      "7   Inquiries.in.the.Last.6.Months   1.63\n",
      "8                Employment.Length   3.50\n",
      "9   Loan.Purpose_renewable_enerrgy   1.91\n",
      "10              Home.Ownership_OWN   2.25\n"
     ]
    }
   ],
   "source": [
    "from statsmodels.stats.outliers_influence import variance_inflation_factor\n",
    "vif=pd.DataFrame()\n",
    "vif[\"columns\"]=x.columns\n",
    "vif[\"Vif\"]=[variance_inflation_factor(x.values,i) for i in range(x.shape[1])]\n",
    "print(round(vif,2))"
   ]
  },
  {
   "cell_type": "code",
   "execution_count": null,
   "metadata": {},
   "outputs": [],
   "source": []
  }
 ],
 "metadata": {
  "kernelspec": {
   "display_name": "Python 3",
   "language": "python",
   "name": "python3"
  },
  "language_info": {
   "codemirror_mode": {
    "name": "ipython",
    "version": 3
   },
   "file_extension": ".py",
   "mimetype": "text/x-python",
   "name": "python",
   "nbconvert_exporter": "python",
   "pygments_lexer": "ipython3",
   "version": "3.8.3"
  }
 },
 "nbformat": 4,
 "nbformat_minor": 4
}
